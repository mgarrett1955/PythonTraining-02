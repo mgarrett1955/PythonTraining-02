{
 "cells": [
  {
   "cell_type": "markdown",
   "metadata": {
    "colab_type": "text",
    "id": "view-in-github"
   },
   "source": [
    "<a href=\"https://colab.research.google.com/github/mgarrett1955/ATLS-2200-2/blob/main/Python_Learning_001.ipynb\" target=\"_parent\"><img src=\"https://colab.research.google.com/assets/colab-badge.svg\" alt=\"Open In Colab\"/></a>"
   ]
  },
  {
   "cell_type": "code",
   "execution_count": 28,
   "metadata": {},
   "outputs": [],
   "source": [
    "#variable _name = some_object"
   ]
  },
  {
   "cell_type": "code",
   "execution_count": 29,
   "metadata": {
    "id": "xmza-FFQEfiS"
   },
   "outputs": [],
   "source": [
    "a = 1 #an integer, whole numbers"
   ]
  },
  {
   "cell_type": "code",
   "execution_count": 30,
   "metadata": {
    "id": "tuXRd3SFWK6f"
   },
   "outputs": [],
   "source": [
    "a1 = a #a copy of an exsting integer"
   ]
  },
  {
   "cell_type": "code",
   "execution_count": 31,
   "metadata": {},
   "outputs": [],
   "source": [
    "a = 1.2 #Changes a to a float!!"
   ]
  },
  {
   "cell_type": "code",
   "execution_count": 32,
   "metadata": {
    "id": "iDckeLdmEs5I"
   },
   "outputs": [],
   "source": [
    "b = 1. #a floting point number (fractional)"
   ]
  },
  {
   "cell_type": "code",
   "execution_count": 33,
   "metadata": {
    "id": "noY907IjUOl5"
   },
   "outputs": [],
   "source": [
    "s = 'this is a string' #a list of number that represent characters, a string"
   ]
  },
  {
   "cell_type": "code",
   "execution_count": 34,
   "metadata": {
    "id": "6uSyOatDEt8r"
   },
   "outputs": [],
   "source": [
    "c = (123,2.,'This is a string, inside of a tuple') #a tuple, a container of values that can not be changed (imutable)"
   ]
  },
  {
   "cell_type": "code",
   "execution_count": 35,
   "metadata": {},
   "outputs": [],
   "source": [
    "c1 = ('Nathan Garrett','1955 Techny Rd Suite 1 Northbrook Illinois', 24) #Name Address Age Tuple"
   ]
  },
  {
   "cell_type": "code",
   "execution_count": 36,
   "metadata": {
    "id": "gVnZr3orEyyA"
   },
   "outputs": [],
   "source": [
    "d = [1,2,3,4] #a list of objects, in this case a list of integers"
   ]
  },
  {
   "cell_type": "code",
   "execution_count": 37,
   "metadata": {
    "id": "4SE_-2MWE1qU"
   },
   "outputs": [],
   "source": [
    "e = [1,2,'string inside of a list'] # list of objects that contains different types (can be changed, mutable)"
   ]
  },
  {
   "cell_type": "code",
   "execution_count": 38,
   "metadata": {
    "id": "HjKed2E8E4dJ"
   },
   "outputs": [],
   "source": [
    "f = { 'name' : 'Nathan', 2 : 300, } #a dictionary of key -> value pairs, can be changed"
   ]
  },
  {
   "cell_type": "code",
   "execution_count": 39,
   "metadata": {
    "id": "x-RaLXpuUV23"
   },
   "outputs": [],
   "source": [
    "def add(x,y): # a very simple function that takes two objects tries to add them and returns the sum\n",
    "  return x + y"
   ]
  },
  {
   "cell_type": "code",
   "execution_count": 40,
   "metadata": {
    "id": "4m52siBWU3oc"
   },
   "outputs": [],
   "source": [
    "result = add(100,200) #calling the function with 2 integers, call the function and assign the result to a variable named result"
   ]
  },
  {
   "cell_type": "code",
   "execution_count": 41,
   "metadata": {
    "colab": {
     "base_uri": "https://localhost:8080/"
    },
    "id": "7zwEkHdKZY4W",
    "outputId": "40025f4c-d781-4746-a5a5-c4f27636e3de"
   },
   "outputs": [
    {
     "data": {
      "text/plain": [
       "300"
      ]
     },
     "execution_count": 41,
     "metadata": {},
     "output_type": "execute_result"
    }
   ],
   "source": [
    "result #jupyter  will sho the current value of this variable"
   ]
  },
  {
   "cell_type": "code",
   "execution_count": 42,
   "metadata": {},
   "outputs": [],
   "source": [
    "import numpy as np"
   ]
  },
  {
   "cell_type": "code",
   "execution_count": 43,
   "metadata": {
    "id": "phZmDjecZZj7"
   },
   "outputs": [],
   "source": [
    "numerical_array = np.array([1,2,3,4,5,6,7,1,2,3,4,5,6,7]) #numpy uses nimercial arrays of anny dimention, of the same type, this looks like a list, but is not"
   ]
  },
  {
   "cell_type": "code",
   "execution_count": 44,
   "metadata": {},
   "outputs": [],
   "source": [
    "#control flow"
   ]
  },
  {
   "cell_type": "code",
   "execution_count": 45,
   "metadata": {},
   "outputs": [],
   "source": [
    "a1 = 100\n",
    "a2 = 10\n",
    "a3 = 2"
   ]
  },
  {
   "cell_type": "code",
   "execution_count": 46,
   "metadata": {},
   "outputs": [
    {
     "name": "stdout",
     "output_type": "stream",
     "text": [
      "a1 greater than a2\n"
     ]
    }
   ],
   "source": [
    "if(a1 < a2):\n",
    "    print('a1 less than a2')\n",
    "else:\n",
    "    print('a1 greater than a2')"
   ]
  },
  {
   "cell_type": "code",
   "execution_count": 48,
   "metadata": {},
   "outputs": [
    {
     "name": "stdout",
     "output_type": "stream",
     "text": [
      "Zero\n"
     ]
    }
   ],
   "source": [
    "if((a1 > a2) and (a1 < a3)):\n",
    "    print('Blam')\n",
    "else:\n",
    "    print('Zero')"
   ]
  },
  {
   "cell_type": "code",
   "execution_count": null,
   "metadata": {},
   "outputs": [],
   "source": []
  },
  {
   "cell_type": "code",
   "execution_count": null,
   "metadata": {},
   "outputs": [],
   "source": []
  }
 ],
 "metadata": {
  "colab": {
   "authorship_tag": "ABX9TyMltB9sARFC6D1Ve+tcyGvc",
   "collapsed_sections": [],
   "include_colab_link": true,
   "name": "Python Learning 001",
   "provenance": []
  },
  "kernelspec": {
   "display_name": "Python 3 (ipykernel)",
   "language": "python",
   "name": "python3"
  },
  "language_info": {
   "codemirror_mode": {
    "name": "ipython",
    "version": 3
   },
   "file_extension": ".py",
   "mimetype": "text/x-python",
   "name": "python",
   "nbconvert_exporter": "python",
   "pygments_lexer": "ipython3",
   "version": "3.9.12"
  }
 },
 "nbformat": 4,
 "nbformat_minor": 1
}

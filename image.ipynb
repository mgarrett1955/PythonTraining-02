{
 "cells": [
  {
   "cell_type": "code",
   "execution_count": 110,
   "id": "13e6fab0",
   "metadata": {},
   "outputs": [],
   "source": [
    "# Imports PIL module\n",
    "from PIL import Image\n",
    "import numpy as np"
   ]
  },
  {
   "cell_type": "code",
   "execution_count": 111,
   "id": "91198c13",
   "metadata": {},
   "outputs": [],
   "source": [
    "# open method used to open different extension image file\n",
    "im = Image.open(r\"lotus.jpg\")"
   ]
  },
  {
   "cell_type": "code",
   "execution_count": 112,
   "id": "43e94ef6",
   "metadata": {},
   "outputs": [
    {
     "data": {
      "text/plain": [
       "PIL.JpegImagePlugin.JpegImageFile"
      ]
     },
     "execution_count": 112,
     "metadata": {},
     "output_type": "execute_result"
    }
   ],
   "source": [
    "type(im)"
   ]
  },
  {
   "cell_type": "code",
   "execution_count": 113,
   "id": "50cc8ea7",
   "metadata": {},
   "outputs": [],
   "source": [
    "# This method will show image in any image viewer\n",
    "#im.show()"
   ]
  },
  {
   "cell_type": "code",
   "execution_count": 114,
   "id": "d92844a6",
   "metadata": {},
   "outputs": [],
   "source": [
    "# using tobytes\n",
    "#im.tobytes(\"hex\", \"rgb\")\n"
   ]
  },
  {
   "cell_type": "code",
   "execution_count": 115,
   "id": "24996b08",
   "metadata": {},
   "outputs": [
    {
     "data": {
      "text/plain": [
       "PIL.JpegImagePlugin.JpegImageFile"
      ]
     },
     "execution_count": 115,
     "metadata": {},
     "output_type": "execute_result"
    }
   ],
   "source": [
    "type(im)"
   ]
  },
  {
   "cell_type": "code",
   "execution_count": 116,
   "id": "80351022",
   "metadata": {},
   "outputs": [],
   "source": [
    "imarray = np.array(im)"
   ]
  },
  {
   "cell_type": "code",
   "execution_count": 117,
   "id": "43ea351b",
   "metadata": {},
   "outputs": [
    {
     "data": {
      "text/plain": [
       "numpy.ndarray"
      ]
     },
     "execution_count": 117,
     "metadata": {},
     "output_type": "execute_result"
    }
   ],
   "source": [
    "type(imarray)"
   ]
  },
  {
   "cell_type": "code",
   "execution_count": 118,
   "id": "3d2fa2b6",
   "metadata": {},
   "outputs": [
    {
     "data": {
      "text/plain": [
       "(384, 512, 3)"
      ]
     },
     "execution_count": 118,
     "metadata": {},
     "output_type": "execute_result"
    }
   ],
   "source": [
    "np.shape(imarray)"
   ]
  },
  {
   "cell_type": "code",
   "execution_count": 119,
   "id": "35633236",
   "metadata": {},
   "outputs": [],
   "source": [
    "row_count = np.shape(imarray)[0]\n",
    "col_count = np.shape(imarray)[1]\n",
    "color_count = np.shape(imarray)[2]"
   ]
  },
  {
   "cell_type": "code",
   "execution_count": 120,
   "id": "add0fd51",
   "metadata": {},
   "outputs": [],
   "source": [
    "for r in range(row_count):\n",
    "    for c in range(col_count):\n",
    "        avg = (int(imarray[r,c,0]) + int(imarray[r,c,1]) + int(imarray[r,c,2]))/3\n",
    "        imarray[r,c,0] = avg \n",
    "        imarray[r,c,1] = avg\n",
    "        imarray[r,c,2] = avg\n",
    "        "
   ]
  },
  {
   "cell_type": "code",
   "execution_count": 121,
   "id": "b96f1acc",
   "metadata": {},
   "outputs": [],
   "source": [
    "im2 = Image.fromarray(imarray)"
   ]
  },
  {
   "cell_type": "code",
   "execution_count": 122,
   "id": "52ad6499",
   "metadata": {},
   "outputs": [],
   "source": [
    "im2.show()"
   ]
  },
  {
   "cell_type": "code",
   "execution_count": 68,
   "id": "f75a1226",
   "metadata": {},
   "outputs": [],
   "source": [
    "im.show()"
   ]
  },
  {
   "cell_type": "code",
   "execution_count": null,
   "id": "50541437",
   "metadata": {},
   "outputs": [],
   "source": []
  }
 ],
 "metadata": {
  "kernelspec": {
   "display_name": "Python 3 (ipykernel)",
   "language": "python",
   "name": "python3"
  },
  "language_info": {
   "codemirror_mode": {
    "name": "ipython",
    "version": 3
   },
   "file_extension": ".py",
   "mimetype": "text/x-python",
   "name": "python",
   "nbconvert_exporter": "python",
   "pygments_lexer": "ipython3",
   "version": "3.9.12"
  }
 },
 "nbformat": 4,
 "nbformat_minor": 5
}
